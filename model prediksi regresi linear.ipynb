{
 "cells": [
  {
   "cell_type": "code",
   "execution_count": 87,
   "metadata": {},
   "outputs": [],
   "source": [
    "#Importing the libraries\n",
    "import pandas as pd\n",
    "import numpy as np\n",
    "import matplotlib.pyplot as plt\n",
    "import seaborn as sns"
   ]
  },
  {
   "cell_type": "code",
   "execution_count": 88,
   "metadata": {},
   "outputs": [
    {
     "data": {
      "text/plain": [
       "(1338, 7)"
      ]
     },
     "execution_count": 88,
     "metadata": {},
     "output_type": "execute_result"
    }
   ],
   "source": [
    "#Reading the dataset\n",
    "dataset = pd.read_csv(\"insurance.csv\")\n",
    "dataset.shape"
   ]
  },
  {
   "cell_type": "code",
   "execution_count": 89,
   "metadata": {},
   "outputs": [
    {
     "data": {
      "text/html": [
       "<div>\n",
       "<style scoped>\n",
       "    .dataframe tbody tr th:only-of-type {\n",
       "        vertical-align: middle;\n",
       "    }\n",
       "\n",
       "    .dataframe tbody tr th {\n",
       "        vertical-align: top;\n",
       "    }\n",
       "\n",
       "    .dataframe thead th {\n",
       "        text-align: right;\n",
       "    }\n",
       "</style>\n",
       "<table border=\"1\" class=\"dataframe\">\n",
       "  <thead>\n",
       "    <tr style=\"text-align: right;\">\n",
       "      <th></th>\n",
       "      <th>age</th>\n",
       "      <th>sex</th>\n",
       "      <th>bmi</th>\n",
       "      <th>children</th>\n",
       "      <th>smoker</th>\n",
       "      <th>region</th>\n",
       "      <th>charges</th>\n",
       "    </tr>\n",
       "  </thead>\n",
       "  <tbody>\n",
       "    <tr>\n",
       "      <th>0</th>\n",
       "      <td>19</td>\n",
       "      <td>female</td>\n",
       "      <td>27.900</td>\n",
       "      <td>0</td>\n",
       "      <td>yes</td>\n",
       "      <td>southwest</td>\n",
       "      <td>16884.92400</td>\n",
       "    </tr>\n",
       "    <tr>\n",
       "      <th>1</th>\n",
       "      <td>18</td>\n",
       "      <td>male</td>\n",
       "      <td>33.770</td>\n",
       "      <td>1</td>\n",
       "      <td>no</td>\n",
       "      <td>southeast</td>\n",
       "      <td>1725.55230</td>\n",
       "    </tr>\n",
       "    <tr>\n",
       "      <th>2</th>\n",
       "      <td>28</td>\n",
       "      <td>male</td>\n",
       "      <td>33.000</td>\n",
       "      <td>3</td>\n",
       "      <td>no</td>\n",
       "      <td>southeast</td>\n",
       "      <td>4449.46200</td>\n",
       "    </tr>\n",
       "    <tr>\n",
       "      <th>3</th>\n",
       "      <td>33</td>\n",
       "      <td>male</td>\n",
       "      <td>22.705</td>\n",
       "      <td>0</td>\n",
       "      <td>no</td>\n",
       "      <td>northwest</td>\n",
       "      <td>21984.47061</td>\n",
       "    </tr>\n",
       "    <tr>\n",
       "      <th>4</th>\n",
       "      <td>32</td>\n",
       "      <td>male</td>\n",
       "      <td>28.880</td>\n",
       "      <td>0</td>\n",
       "      <td>no</td>\n",
       "      <td>northwest</td>\n",
       "      <td>3866.85520</td>\n",
       "    </tr>\n",
       "  </tbody>\n",
       "</table>\n",
       "</div>"
      ],
      "text/plain": [
       "   age     sex     bmi  children smoker     region      charges\n",
       "0   19  female  27.900         0    yes  southwest  16884.92400\n",
       "1   18    male  33.770         1     no  southeast   1725.55230\n",
       "2   28    male  33.000         3     no  southeast   4449.46200\n",
       "3   33    male  22.705         0     no  northwest  21984.47061\n",
       "4   32    male  28.880         0     no  northwest   3866.85520"
      ]
     },
     "execution_count": 89,
     "metadata": {},
     "output_type": "execute_result"
    }
   ],
   "source": [
    "dataset.head()"
   ]
  },
  {
   "cell_type": "code",
   "execution_count": 90,
   "metadata": {},
   "outputs": [
    {
     "data": {
      "text/plain": [
       "True"
      ]
     },
     "execution_count": 90,
     "metadata": {},
     "output_type": "execute_result"
    }
   ],
   "source": [
    "dataset.isna().sum()\n",
    "dataset.duplicated().any()"
   ]
  },
  {
   "cell_type": "code",
   "execution_count": 91,
   "metadata": {},
   "outputs": [
    {
     "name": "stderr",
     "output_type": "stream",
     "text": [
      "c:\\Users\\Diavolo\\anaconda3\\lib\\site-packages\\seaborn\\_decorators.py:36: FutureWarning: Pass the following variable as a keyword arg: x. From version 0.12, the only valid positional argument will be `data`, and passing other arguments without an explicit keyword will result in an error or misinterpretation.\n",
      "  warnings.warn(\n",
      "c:\\Users\\Diavolo\\anaconda3\\lib\\site-packages\\seaborn\\_decorators.py:36: FutureWarning: Pass the following variable as a keyword arg: x. From version 0.12, the only valid positional argument will be `data`, and passing other arguments without an explicit keyword will result in an error or misinterpretation.\n",
      "  warnings.warn(\n",
      "c:\\Users\\Diavolo\\anaconda3\\lib\\site-packages\\seaborn\\_decorators.py:36: FutureWarning: Pass the following variable as a keyword arg: x. From version 0.12, the only valid positional argument will be `data`, and passing other arguments without an explicit keyword will result in an error or misinterpretation.\n",
      "  warnings.warn(\n"
     ]
    },
    {
     "data": {
      "image/png": "[encoded data removed]",
      "text/plain": [
       "<Figure size 360x360 with 3 Axes>"
      ]
     },
     "metadata": {
      "needs_background": "light"
     },
     "output_type": "display_data"
    }
   ],
   "source": [
    "fig, axs = plt.subplots(3, figsize = (5,5))\n",
    "\n",
    "plt1 = sns.boxplot(dataset['age'], ax = axs[0])\n",
    "plt2 = sns.boxplot(dataset['children'], ax = axs[1])\n",
    "plt3 = sns.boxplot(dataset['bmi'], ax = axs[2])\n",
    "\n",
    "plt.tight_layout()"
   ]
  },
  {
   "cell_type": "code",
   "execution_count": 92,
   "metadata": {},
   "outputs": [
    {
     "name": "stderr",
     "output_type": "stream",
     "text": [
      "c:\\Users\\Diavolo\\anaconda3\\lib\\site-packages\\seaborn\\distributions.py:2619: FutureWarning: `distplot` is a deprecated function and will be removed in a future version. Please adapt your code to use either `displot` (a figure-level function with similar flexibility) or `histplot` (an axes-level function for histograms).\n",
      "  warnings.warn(msg, FutureWarning)\n"
     ]
    },
    {
     "data": {
      "image/png": "[encoded data removed]",
      "text/plain": [
       "<Figure size 432x288 with 1 Axes>"
      ]
     },
     "metadata": {
      "needs_background": "light"
     },
     "output_type": "display_data"
    }
   ],
   "source": [
    "sns.distplot(dataset['charges']);"
   ]
  },
  {
   "cell_type": "code",
   "execution_count": 93,
   "metadata": {},
   "outputs": [
    {
     "data": {
      "image/png": "[encoded data removed]",
      "text/plain": [
       "<Figure size 1080x360 with 3 Axes>"
      ]
     },
     "metadata": {
      "needs_background": "light"
     },
     "output_type": "display_data"
    }
   ],
   "source": [
    "sns.pairplot(dataset, x_vars=['age', 'children', 'bmi'], y_vars='charges', height=5, aspect=1, kind='scatter')\n",
    "plt.show()"
   ]
  },
  {
   "cell_type": "code",
   "execution_count": 94,
   "metadata": {},
   "outputs": [
    {
     "data": {
      "image/png": "[encoded data removed]",
      "text/plain": [
       "<Figure size 432x288 with 2 Axes>"
      ]
     },
     "metadata": {
      "needs_background": "light"
     },
     "output_type": "display_data"
    }
   ],
   "source": [
    "sns.heatmap(dataset.corr(), annot = True)\n",
    "plt.show()"
   ]
  },
  {
   "cell_type": "code",
   "execution_count": 95,
   "metadata": {},
   "outputs": [],
   "source": [
    "from sklearn.model_selection import train_test_split\n",
    "from sklearn.linear_model import LinearRegression\n",
    "from sklearn import metrics"
   ]
  },
  {
   "cell_type": "code",
   "execution_count": 96,
   "metadata": {},
   "outputs": [],
   "source": [
    "#Setting the value for X and Y\n",
    "x = dataset[['age']]\n",
    "y = dataset['charges']"
   ]
  },
  {
   "cell_type": "code",
   "execution_count": 97,
   "metadata": {},
   "outputs": [],
   "source": [
    "x_train, x_test, y_train, y_test = train_test_split(x, y, test_size = 0.3, random_state = 100)"
   ]
  },
  {
   "cell_type": "code",
   "execution_count": 98,
   "metadata": {},
   "outputs": [
    {
     "data": {
      "text/plain": [
       "LinearRegression()"
      ]
     },
     "execution_count": 98,
     "metadata": {},
     "output_type": "execute_result"
    }
   ],
   "source": [
    "slr= LinearRegression()  \n",
    "slr.fit(x_train, y_train)"
   ]
  },
  {
   "cell_type": "code",
   "execution_count": 99,
   "metadata": {},
   "outputs": [
    {
     "name": "stdout",
     "output_type": "stream",
     "text": [
      "Intercept:  2707.0518370926657\n",
      "Coefficient: [267.74014088]\n"
     ]
    }
   ],
   "source": [
    "#Printing the model coefficients\n",
    "print('Intercept: ', slr.intercept_)\n",
    "print('Coefficient:', slr.coef_)"
   ]
  },
  {
   "cell_type": "code",
   "execution_count": 100,
   "metadata": {},
   "outputs": [
    {
     "name": "stdout",
     "output_type": "stream",
     "text": [
      "Regression Equation:  [2974.79197797]\n"
     ]
    }
   ],
   "source": [
    "Regression_Equationslr= slr.intercept_+ slr.coef_\n",
    "\n",
    "print(\"Regression Equation: \", Regression_Equationslr)"
   ]
  },
  {
   "cell_type": "code",
   "execution_count": 101,
   "metadata": {},
   "outputs": [
    {
     "data": {
      "image/png": "[encoded data removed]",
      "text/plain": [
       "<Figure size 432x288 with 1 Axes>"
      ]
     },
     "metadata": {
      "needs_background": "light"
     },
     "output_type": "display_data"
    }
   ],
   "source": [
    "plt.scatter(x_train, y_train)\n",
    "plt.plot(x_train, slr.intercept_+ slr.coef_*x_train, 'r')\n",
    "plt.show()"
   ]
  },
  {
   "cell_type": "code",
   "execution_count": 102,
   "metadata": {},
   "outputs": [],
   "source": [
    "y_pred_slr= slr.predict(x_test)  \n",
    "x_pred_slr= slr.predict(x_train)  "
   ]
  },
  {
   "cell_type": "code",
   "execution_count": 103,
   "metadata": {},
   "outputs": [
    {
     "name": "stdout",
     "output_type": "stream",
     "text": [
      "Prediction for test set: [ 8865.07507731 10203.77578171 14487.61803577  8061.85465467\n",
      "  7526.37437292 19574.68071247 19039.20043071  8329.59479555\n",
      " 11810.21662698 19039.20043071 15290.83845841  9400.55535907\n",
      " 15023.09831753  9400.55535907 14755.35817665 11006.99620434\n",
      " 17165.01944456 15826.31874017 12077.95676786 18235.98000808\n",
      " 17432.75958544  8329.59479555 14755.35817665 13952.13775401\n",
      " 16361.79902192 11006.99620434 10203.77578171 19039.20043071\n",
      " 14219.87789489 19306.94057159 16629.5391628   8061.85465467\n",
      " 18503.72014896  7526.37437292 13416.65747225 19574.68071247\n",
      " 10739.25606346 12613.43704962 10739.25606346 19039.20043071\n",
      " 14487.61803577 13952.13775401  9936.03564083 11006.99620434\n",
      "  7526.37437292 11274.73634522 11810.21662698  8061.85465467\n",
      "  7526.37437292 13148.91733138 19574.68071247 15558.57859929\n",
      "  8061.85465467 13952.13775401 13952.13775401 17700.49972632\n",
      " 16897.27930368 11274.73634522 12613.43704962 17432.75958544\n",
      "  7794.11451379  8597.33493643 10471.51592259 15558.57859929\n",
      " 17432.75958544  8865.07507731  7526.37437292 12077.95676786\n",
      " 11274.73634522 14219.87789489 16361.79902192 11542.4764861\n",
      " 19306.94057159 10739.25606346 15023.09831753  7526.37437292\n",
      " 16629.5391628  15558.57859929 19306.94057159 14755.35817665\n",
      "  8597.33493643 12613.43704962 13148.91733138  9668.29549995\n",
      " 14755.35817665 18771.46028984 18771.46028984 13416.65747225\n",
      " 11542.4764861  11274.73634522  9668.29549995 15023.09831753\n",
      " 16361.79902192  7794.11451379 12613.43704962 13684.39761313\n",
      " 15023.09831753 11810.21662698 13148.91733138  9936.03564083\n",
      " 10203.77578171  8597.33493643 15558.57859929 14755.35817665\n",
      "  7794.11451379 17700.49972632  8597.33493643 14219.87789489\n",
      " 19039.20043071  9132.81521819 16629.5391628  11542.4764861\n",
      " 17968.2398672  17968.2398672  13952.13775401 19574.68071247\n",
      "  8329.59479555 19842.42085335 13148.91733138 14487.61803577\n",
      " 12077.95676786 11542.4764861  18503.72014896 18771.46028984\n",
      " 16629.5391628  15290.83845841 17968.2398672   9668.29549995\n",
      " 12881.1771905  16897.27930368  9400.55535907 13684.39761313\n",
      " 11006.99620434 17432.75958544  8061.85465467  9936.03564083\n",
      " 17165.01944456 10739.25606346 12881.1771905  15023.09831753\n",
      "  8061.85465467  9936.03564083  7794.11451379 13952.13775401\n",
      " 13148.91733138 16629.5391628  18771.46028984 10471.51592259\n",
      " 16361.79902192 13416.65747225 17165.01944456  9936.03564083\n",
      " 12345.69690874 16897.27930368 17700.49972632 15290.83845841\n",
      " 11006.99620434 15558.57859929 16094.05888105  9936.03564083\n",
      " 15023.09831753  7794.11451379 10739.25606346 15558.57859929\n",
      "  9936.03564083 18235.98000808  7526.37437292 14487.61803577\n",
      " 19842.42085335 18771.46028984 19039.20043071  8597.33493643\n",
      " 11006.99620434  7794.11451379 13148.91733138 13684.39761313\n",
      "  8597.33493643 13952.13775401 18503.72014896  7526.37437292\n",
      " 14755.35817665  8061.85465467 13148.91733138 17700.49972632\n",
      "  9668.29549995  7794.11451379 10203.77578171 17165.01944456\n",
      " 13416.65747225 19842.42085335  7794.11451379 15558.57859929\n",
      "  7794.11451379 15023.09831753  9936.03564083 12077.95676786\n",
      " 12613.43704962  7526.37437292 15826.31874017 18503.72014896\n",
      " 10471.51592259 11274.73634522  9132.81521819 13684.39761313\n",
      " 18503.72014896 16629.5391628  16629.5391628  19842.42085335\n",
      "  9132.81521819 11810.21662698 15826.31874017  9132.81521819\n",
      "  9400.55535907 19039.20043071 13952.13775401 11006.99620434\n",
      " 14219.87789489 12345.69690874  8865.07507731  7794.11451379\n",
      " 18771.46028984 19842.42085335 12345.69690874 14487.61803577\n",
      " 15826.31874017 16361.79902192 11274.73634522  8597.33493643\n",
      " 18235.98000808 13148.91733138 16897.27930368 13148.91733138\n",
      " 17700.49972632 13416.65747225 11810.21662698 15558.57859929\n",
      " 10203.77578171 12345.69690874 18235.98000808 15023.09831753\n",
      " 11810.21662698  8597.33493643 10471.51592259 15290.83845841\n",
      " 11810.21662698 13952.13775401  7794.11451379 19306.94057159\n",
      " 14755.35817665  8597.33493643  9936.03564083 11810.21662698\n",
      "  9132.81521819 16897.27930368 16629.5391628   8061.85465467\n",
      " 11274.73634522 17700.49972632 10471.51592259 12881.1771905\n",
      "  7794.11451379 14487.61803577 12881.1771905   8061.85465467\n",
      "  7526.37437292 19306.94057159 15023.09831753 18503.72014896\n",
      " 10471.51592259 15290.83845841 19039.20043071 12077.95676786\n",
      " 15558.57859929 18235.98000808 17968.2398672  18235.98000808\n",
      " 10203.77578171 12077.95676786 10203.77578171 15023.09831753\n",
      "  9668.29549995 14755.35817665  7794.11451379 13952.13775401\n",
      "  9400.55535907 10471.51592259 15826.31874017  9132.81521819\n",
      "  7526.37437292 16629.5391628  17165.01944456  7794.11451379\n",
      " 11810.21662698 15290.83845841 11810.21662698 19039.20043071\n",
      "  7526.37437292 16897.27930368 15023.09831753 15290.83845841\n",
      "  7526.37437292 11006.99620434 17165.01944456  8061.85465467\n",
      " 14487.61803577 13684.39761313 15826.31874017 16897.27930368\n",
      " 16629.5391628   7526.37437292 18235.98000808 12077.95676786\n",
      " 19306.94057159  7794.11451379 18503.72014896 15023.09831753\n",
      " 17165.01944456 14755.35817665 19306.94057159 11274.73634522\n",
      "  7794.11451379 19842.42085335 11810.21662698 15023.09831753\n",
      " 15558.57859929 17432.75958544  8865.07507731 11274.73634522\n",
      " 13952.13775401 18771.46028984 17165.01944456  7794.11451379\n",
      "  7794.11451379 15558.57859929 18503.72014896 12345.69690874\n",
      "  9400.55535907 14755.35817665 17968.2398672  14219.87789489\n",
      " 11006.99620434 16361.79902192 10203.77578171 12881.1771905\n",
      " 17968.2398672   7526.37437292  8329.59479555 10203.77578171\n",
      " 16361.79902192 15023.09831753 10203.77578171 17432.75958544\n",
      " 15826.31874017  7526.37437292 15290.83845841 13148.91733138\n",
      " 12613.43704962 15558.57859929  7794.11451379  7794.11451379\n",
      "  9936.03564083 19842.42085335  9668.29549995 14487.61803577\n",
      " 18503.72014896 19306.94057159 12077.95676786 14219.87789489\n",
      " 18771.46028984 11006.99620434 13416.65747225  9132.81521819\n",
      "  8061.85465467 11542.4764861  19842.42085335  9668.29549995\n",
      "  7526.37437292 12613.43704962 10471.51592259 16897.27930368\n",
      "  9936.03564083  8865.07507731 13416.65747225 17968.2398672\n",
      " 16361.79902192 10471.51592259 14219.87789489 19574.68071247\n",
      "  8061.85465467 17968.2398672   8329.59479555  7526.37437292\n",
      " 14487.61803577 12881.1771905  15558.57859929 12077.95676786\n",
      " 16897.27930368  7526.37437292 10471.51592259  9132.81521819\n",
      " 11810.21662698 13684.39761313]\n"
     ]
    }
   ],
   "source": [
    "print(\"Prediction for test set: {}\".format(y_pred_slr))"
   ]
  },
  {
   "cell_type": "code",
   "execution_count": 104,
   "metadata": {},
   "outputs": [
    {
     "data": {
      "text/html": [
       "<div>\n",
       "<style scoped>\n",
       "    .dataframe tbody tr th:only-of-type {\n",
       "        vertical-align: middle;\n",
       "    }\n",
       "\n",
       "    .dataframe tbody tr th {\n",
       "        vertical-align: top;\n",
       "    }\n",
       "\n",
       "    .dataframe thead th {\n",
       "        text-align: right;\n",
       "    }\n",
       "</style>\n",
       "<table border=\"1\" class=\"dataframe\">\n",
       "  <thead>\n",
       "    <tr style=\"text-align: right;\">\n",
       "      <th></th>\n",
       "      <th>Actual value</th>\n",
       "      <th>Predicted value</th>\n",
       "    </tr>\n",
       "  </thead>\n",
       "  <tbody>\n",
       "    <tr>\n",
       "      <th>12</th>\n",
       "      <td>1826.84300</td>\n",
       "      <td>8865.075077</td>\n",
       "    </tr>\n",
       "    <tr>\n",
       "      <th>306</th>\n",
       "      <td>20177.67113</td>\n",
       "      <td>10203.775782</td>\n",
       "    </tr>\n",
       "    <tr>\n",
       "      <th>318</th>\n",
       "      <td>7421.19455</td>\n",
       "      <td>14487.618036</td>\n",
       "    </tr>\n",
       "    <tr>\n",
       "      <th>815</th>\n",
       "      <td>1877.92940</td>\n",
       "      <td>8061.854655</td>\n",
       "    </tr>\n",
       "    <tr>\n",
       "      <th>157</th>\n",
       "      <td>15518.18025</td>\n",
       "      <td>7526.374373</td>\n",
       "    </tr>\n",
       "    <tr>\n",
       "      <th>...</th>\n",
       "      <td>...</td>\n",
       "      <td>...</td>\n",
       "    </tr>\n",
       "    <tr>\n",
       "      <th>710</th>\n",
       "      <td>1727.54000</td>\n",
       "      <td>7526.374373</td>\n",
       "    </tr>\n",
       "    <tr>\n",
       "      <th>1005</th>\n",
       "      <td>4433.38770</td>\n",
       "      <td>10471.515923</td>\n",
       "    </tr>\n",
       "    <tr>\n",
       "      <th>389</th>\n",
       "      <td>4618.07990</td>\n",
       "      <td>9132.815218</td>\n",
       "    </tr>\n",
       "    <tr>\n",
       "      <th>923</th>\n",
       "      <td>4320.41085</td>\n",
       "      <td>11810.216627</td>\n",
       "    </tr>\n",
       "    <tr>\n",
       "      <th>1164</th>\n",
       "      <td>7153.55390</td>\n",
       "      <td>13684.397613</td>\n",
       "    </tr>\n",
       "  </tbody>\n",
       "</table>\n",
       "<p>402 rows × 2 columns</p>\n",
       "</div>"
      ],
      "text/plain": [
       "      Actual value  Predicted value\n",
       "12      1826.84300      8865.075077\n",
       "306    20177.67113     10203.775782\n",
       "318     7421.19455     14487.618036\n",
       "815     1877.92940      8061.854655\n",
       "157    15518.18025      7526.374373\n",
       "...            ...              ...\n",
       "710     1727.54000      7526.374373\n",
       "1005    4433.38770     10471.515923\n",
       "389     4618.07990      9132.815218\n",
       "923     4320.41085     11810.216627\n",
       "1164    7153.55390     13684.397613\n",
       "\n",
       "[402 rows x 2 columns]"
      ]
     },
     "execution_count": 104,
     "metadata": {},
     "output_type": "execute_result"
    }
   ],
   "source": [
    "slr_diff = pd.DataFrame({'Actual value': y_test, 'Predicted value': y_pred_slr})\n",
    "slr_diff"
   ]
  },
  {
   "cell_type": "code",
   "execution_count": 105,
   "metadata": {},
   "outputs": [
    {
     "name": "stdout",
     "output_type": "stream",
     "text": [
      "R squared value of the model: 8.92\n"
     ]
    }
   ],
   "source": [
    "slr.predict([[56]])\n",
    "from sklearn.metrics import accuracy_score\n",
    "print('R squared value of the model: {:.2f}'.format(slr.score(x,y)*100))"
   ]
  },
  {
   "cell_type": "code",
   "execution_count": 106,
   "metadata": {},
   "outputs": [
    {
     "name": "stdout",
     "output_type": "stream",
     "text": [
      "Mean Absolute Error: 9031.799151222724\n",
      "Mean Square Error: 134798778.0695984\n",
      "Root Mean Square Error: 11610.287596334485\n"
     ]
    }
   ],
   "source": [
    "meanAbErr = metrics.mean_absolute_error(y_test, y_pred_slr)\n",
    "meanSqErr = metrics.mean_squared_error(y_test, y_pred_slr)\n",
    "rootMeanSqErr = np.sqrt(metrics.mean_squared_error(y_test, y_pred_slr))\n",
    "\n",
    "print('Mean Absolute Error:', meanAbErr)\n",
    "print('Mean Square Error:', meanSqErr)\n",
    "print('Root Mean Square Error:', rootMeanSqErr)"
   ]
  },
  {
   "cell_type": "code",
   "execution_count": 107,
   "metadata": {},
   "outputs": [],
   "source": [
    "x = dataset[['age', 'children', 'bmi']]\n",
    "y = dataset['charges']"
   ]
  },
  {
   "cell_type": "code",
   "execution_count": 108,
   "metadata": {},
   "outputs": [],
   "source": [
    "x_train, x_test, y_train, y_test= train_test_split(x, y, test_size= 0.3, random_state=100)  "
   ]
  },
  {
   "cell_type": "code",
   "execution_count": 109,
   "metadata": {},
   "outputs": [
    {
     "data": {
      "text/plain": [
       "LinearRegression()"
      ]
     },
     "execution_count": 109,
     "metadata": {},
     "output_type": "execute_result"
    }
   ],
   "source": [
    "mlr= LinearRegression()  \n",
    "mlr.fit(x_train, y_train) "
   ]
  },
  {
   "cell_type": "code",
   "execution_count": 110,
   "metadata": {},
   "outputs": [
    {
     "data": {
      "text/plain": [
       "LinearRegression()"
      ]
     },
     "execution_count": 110,
     "metadata": {},
     "output_type": "execute_result"
    }
   ],
   "source": [
    "mlr= LinearRegression()  \n",
    "mlr.fit(x_train, y_train) "
   ]
  },
  {
   "cell_type": "code",
   "execution_count": 111,
   "metadata": {},
   "outputs": [],
   "source": [
    "y_pred_mlr= mlr.predict(x_test)  \n",
    "x_pred_mlr= mlr.predict(x_train)  "
   ]
  },
  {
   "cell_type": "code",
   "execution_count": 112,
   "metadata": {},
   "outputs": [
    {
     "name": "stdout",
     "output_type": "stream",
     "text": [
      "Prediction for test set: [ 9676.57340336  9867.8860551  12868.84958193  8033.57950569\n",
      "  5623.63360332 17643.66298656 19021.02882992  7585.93719558\n",
      " 10697.89641019 20378.19953174 20179.21011122 10036.40237202\n",
      " 15620.824894    9018.06729344 14415.09204881 13292.07151216\n",
      " 16459.43897473 18010.34313028 12008.41752356 22875.10820043\n",
      " 18849.08668747  8173.9409489  11212.82158556 12484.93532057\n",
      " 18400.25943852 13317.83080329 11240.10042671 20291.6487198\n",
      " 12763.59747359 18056.50438262 23273.47209149  7220.49291502\n",
      " 19907.58024803  7616.07569748 13594.81847241 16315.44536232\n",
      " 13291.45346158 13632.63301961  8707.69568819 19366.25202606\n",
      " 12827.8924106  17047.26185127 10450.78949898 13392.37752147\n",
      "  5594.75763094 10262.00093533 10393.78459579  8837.62447345\n",
      "  7096.38529986 15922.43856321 21817.00088936 12395.31971318\n",
      " 10223.97956847 12946.95087864 12176.34124732 18864.90261825\n",
      " 18206.73135751 12210.44628212 13119.02177407 17244.1905384\n",
      "  8559.03942563  8210.95680675 10797.01748067 14927.28655442\n",
      " 19071.207054    7767.71965029  5970.14527187 13315.43522072\n",
      " 16651.34398163 18258.99674335 14576.39567511  8966.23980488\n",
      " 15466.78559661  8996.60962239 15736.32878352  5710.26152046\n",
      " 16048.24563421 14881.92422943 18086.90014302 14086.9720469\n",
      "  8095.53002244 13717.66404353 12255.34428146  9450.30514169\n",
      " 11674.83714362 18325.94475943 17246.89526526 14468.69658389\n",
      "  9254.92242347 14318.5464762   8194.883132   14011.36938087\n",
      " 11700.87963615  6610.51697364 12073.25340594 12990.40668064\n",
      " 17607.26494129 15078.0025889  11378.65790956  7525.42887618\n",
      " 10454.75554641  9913.1193891  16380.43521711 12460.79886555\n",
      " 11862.90437061 18782.91117037  9791.5363475  11348.67482701\n",
      " 21904.06670377  9199.90091046 17148.49505545 10236.85969477\n",
      " 16436.74520252 16254.37064013 13085.09737804 18769.82590935\n",
      "  8221.05437752 21765.86904205 16248.0587255  12584.72632741\n",
      " 11689.33914457 12431.27938518 19529.30724147 16374.61404701\n",
      " 16570.82139746 15350.99778223 17299.98479786 11058.47218241\n",
      "  9117.9608629  14799.28951157  8902.71761433 14023.86253421\n",
      " 10661.31844961 18490.41671476  8601.98022516 10201.62136892\n",
      " 15514.36214193 11698.63851146 10946.34295611 13576.71000716\n",
      " 11486.69209744  9490.28347037  8799.01172238 14563.92822667\n",
      " 11706.62370105 16829.18536085 16286.38923664 10046.1650936\n",
      " 16552.12010105 15056.93165282 16002.21409633  7871.70922912\n",
      " 10431.34139901 13738.55457884 15259.88832971 14340.26164376\n",
      " 13231.35709656 14763.22655347 16071.48035178  8882.36826239\n",
      " 19865.74704415  7923.61382288 13498.2217375  18372.95441648\n",
      " 10239.61606941 18814.23461111  7132.78310713 15236.83352743\n",
      " 20174.80519557 19131.43241    20265.81232346  8210.95680675\n",
      " 10632.36537203  7416.00462422 14293.53422663 10849.02536052\n",
      "  8730.72430957 14130.94285139 19618.97473465  6836.42444324\n",
      " 14504.75954198  7149.13998328 11244.53103778 19773.96716979\n",
      "  9349.99913237  7057.33465151 10098.73962373 17705.7422563\n",
      " 11985.28585408 19481.62764806  4513.2095061  14272.33502303\n",
      "  7981.36576764 14061.67659594 11683.56889878 12197.02544844\n",
      " 18225.50952112  4266.61711191 14088.98161798 15720.48714785\n",
      "  9211.72436544 12389.93547888  8376.17580365 13852.12648795\n",
      " 21237.39476549 18505.74286248 13509.96832527 16683.69790332\n",
      "  6339.65985691 12190.25114058 15590.5321817  10370.13768583\n",
      "  7054.50117166 17548.35423858 16307.20219076 12047.44222902\n",
      " 15988.58765194 13267.34294945  9117.29141202  6220.00855772\n",
      " 15918.60053582 20395.02024805 13972.60169592 13344.62033738\n",
      " 13973.40062326 20293.91531139 13961.1649759   6622.7783259\n",
      " 18676.0881117  16182.32231462 14770.49064439 14986.40335332\n",
      " 17685.47000956 13746.87437961  8465.17359846 15529.12261032\n",
      " 10533.39899743 12805.48160179 18329.49933795 11743.76854989\n",
      " 12457.73383209  6356.8154224   7909.42024275 16701.93512156\n",
      " 10612.71117587 12443.82393883  7519.35020957 20685.81476234\n",
      " 14704.16019341 11107.9040884  10037.48426276 10846.75853094\n",
      "  9605.68431179 15781.22678286 19169.81312199  5893.71797359\n",
      " 10246.80305513 15153.50316831 11175.29048723 12467.57365888\n",
      "  6191.13258534 14685.15047619 13037.57127157 10772.23751765\n",
      "  4555.22262529 18606.66764584 15184.72283748 15951.49492688\n",
      "  7360.62255714 17083.55612498 19627.42424988 14157.47488898\n",
      " 15781.48452684 18127.29042609 16520.33354362 16539.11194523\n",
      "  8756.92101251 11129.98004802  9317.79989708 15886.9420079\n",
      "  9608.36309576 16814.76022711  9338.53646946 14331.32355441\n",
      "  8929.91958828  7678.25825331 14471.96819901  7555.49027287\n",
      "  8336.45521894 16339.89072363 16781.78824537 10531.57006513\n",
      " 11214.62433697 15552.97537848 10168.93307404 18905.5249404\n",
      " 10208.83405952 16820.60757811 14789.57795229 15832.77058456\n",
      "  9606.99800362  7419.45639264 16897.13792448  9021.51882387\n",
      " 16554.41263553 14631.9319526  12709.01409586 14106.26617447\n",
      " 17812.71952538  6807.62557607 18560.43001177 14143.873902\n",
      " 18895.42736963  8981.38628477 18197.97293599 13397.2979156\n",
      " 16152.67311031 13407.54969678 20877.23094765 11563.01658561\n",
      "  5093.76852973 19759.74885571 12421.41313002 15794.23493868\n",
      " 17839.35461106 18551.20823556  8400.0285718  10506.68680654\n",
      " 12051.64152448 16836.55249987 15222.40863169  7373.52766486\n",
      "  7346.0943753  17131.05628856 16962.15396015 10639.55235775\n",
      "  9913.53085801 15024.60415001 19956.57425674 12417.00869984\n",
      "  9621.70633876 18202.60989073  8311.46891226 13709.31757639\n",
      " 16774.13814296  7433.70113509  9982.64290305  9767.50294058\n",
      " 18833.47612942 12069.15739657  9709.82810102 17280.81966128\n",
      " 12558.47797668  9825.9245837  12607.5490906  12342.0493038\n",
      " 12275.539423   12887.73103164  6944.87033803  8221.49227479\n",
      "  6716.82454436 20255.27685542  8213.27479864 11136.36834439\n",
      " 18279.96438386 19270.96922097 14836.8201339  11267.97185155\n",
      " 14035.58317909 13741.85166086 10005.00206407  7312.32418968\n",
      "  7509.32974401  7861.35391437 17489.1855539  10798.35711539\n",
      "  9573.56266718 11726.74173739 12549.33306767 19319.13908291\n",
      "  9079.94070498  5024.57937948 14353.11558917 14342.55441623\n",
      " 13934.96802549  9236.19518417 12666.17682991 20245.54007672\n",
      "  8972.96271243 21038.74043215  4529.56638225 10214.9132116\n",
      " 16305.09029505 14748.69837163 15595.9932832  13136.10023436\n",
      " 15146.03249573  9190.65319136 11403.41290063 10212.31104737\n",
      " 12854.3214001  12841.46745468]\n"
     ]
    }
   ],
   "source": [
    "print(\"Prediction for test set: {}\".format(y_pred_mlr))"
   ]
  },
  {
   "cell_type": "code",
   "execution_count": 113,
   "metadata": {},
   "outputs": [
    {
     "data": {
      "text/html": [
       "<div>\n",
       "<style scoped>\n",
       "    .dataframe tbody tr th:only-of-type {\n",
       "        vertical-align: middle;\n",
       "    }\n",
       "\n",
       "    .dataframe tbody tr th {\n",
       "        vertical-align: top;\n",
       "    }\n",
       "\n",
       "    .dataframe thead th {\n",
       "        text-align: right;\n",
       "    }\n",
       "</style>\n",
       "<table border=\"1\" class=\"dataframe\">\n",
       "  <thead>\n",
       "    <tr style=\"text-align: right;\">\n",
       "      <th></th>\n",
       "      <th>Actual value</th>\n",
       "      <th>Predicted value</th>\n",
       "    </tr>\n",
       "  </thead>\n",
       "  <tbody>\n",
       "    <tr>\n",
       "      <th>12</th>\n",
       "      <td>1826.84300</td>\n",
       "      <td>9676.573403</td>\n",
       "    </tr>\n",
       "    <tr>\n",
       "      <th>306</th>\n",
       "      <td>20177.67113</td>\n",
       "      <td>9867.886055</td>\n",
       "    </tr>\n",
       "    <tr>\n",
       "      <th>318</th>\n",
       "      <td>7421.19455</td>\n",
       "      <td>12868.849582</td>\n",
       "    </tr>\n",
       "    <tr>\n",
       "      <th>815</th>\n",
       "      <td>1877.92940</td>\n",
       "      <td>8033.579506</td>\n",
       "    </tr>\n",
       "    <tr>\n",
       "      <th>157</th>\n",
       "      <td>15518.18025</td>\n",
       "      <td>5623.633603</td>\n",
       "    </tr>\n",
       "    <tr>\n",
       "      <th>...</th>\n",
       "      <td>...</td>\n",
       "      <td>...</td>\n",
       "    </tr>\n",
       "    <tr>\n",
       "      <th>710</th>\n",
       "      <td>1727.54000</td>\n",
       "      <td>9190.653191</td>\n",
       "    </tr>\n",
       "    <tr>\n",
       "      <th>1005</th>\n",
       "      <td>4433.38770</td>\n",
       "      <td>11403.412901</td>\n",
       "    </tr>\n",
       "    <tr>\n",
       "      <th>389</th>\n",
       "      <td>4618.07990</td>\n",
       "      <td>10212.311047</td>\n",
       "    </tr>\n",
       "    <tr>\n",
       "      <th>923</th>\n",
       "      <td>4320.41085</td>\n",
       "      <td>12854.321400</td>\n",
       "    </tr>\n",
       "    <tr>\n",
       "      <th>1164</th>\n",
       "      <td>7153.55390</td>\n",
       "      <td>12841.467455</td>\n",
       "    </tr>\n",
       "  </tbody>\n",
       "</table>\n",
       "<p>402 rows × 2 columns</p>\n",
       "</div>"
      ],
      "text/plain": [
       "      Actual value  Predicted value\n",
       "12      1826.84300      9676.573403\n",
       "306    20177.67113      9867.886055\n",
       "318     7421.19455     12868.849582\n",
       "815     1877.92940      8033.579506\n",
       "157    15518.18025      5623.633603\n",
       "...            ...              ...\n",
       "710     1727.54000      9190.653191\n",
       "1005    4433.38770     11403.412901\n",
       "389     4618.07990     10212.311047\n",
       "923     4320.41085     12854.321400\n",
       "1164    7153.55390     12841.467455\n",
       "\n",
       "[402 rows x 2 columns]"
      ]
     },
     "execution_count": 113,
     "metadata": {},
     "output_type": "execute_result"
    }
   ],
   "source": [
    "mlr_diff = pd.DataFrame({'Actual value': y_test, 'Predicted value': y_pred_mlr})\n",
    "mlr_diff"
   ]
  },
  {
   "cell_type": "code",
   "execution_count": 114,
   "metadata": {},
   "outputs": [
    {
     "data": {
      "text/plain": [
       "array([56419.98869631])"
      ]
     },
     "execution_count": 114,
     "metadata": {},
     "output_type": "execute_result"
    }
   ],
   "source": [
    "#Predict for any value\n",
    "mlr.predict([[56, 55, 67]])"
   ]
  },
  {
   "cell_type": "code",
   "execution_count": 115,
   "metadata": {},
   "outputs": [
    {
     "name": "stdout",
     "output_type": "stream",
     "text": [
      "R squared value of the model: 11.97\n"
     ]
    }
   ],
   "source": [
    "# print the R-squared value for the model\n",
    "print('R squared value of the model: {:.2f}'.format(mlr.score(x,y)*100))"
   ]
  },
  {
   "cell_type": "code",
   "execution_count": 116,
   "metadata": {},
   "outputs": [
    {
     "name": "stdout",
     "output_type": "stream",
     "text": [
      "Mean Absolute Error: 8899.594165897634\n",
      "Mean Square Error: 129209552.77458598\n",
      "Root Mean Square Error: 11367.037994771812\n"
     ]
    }
   ],
   "source": [
    "meanAbErr = metrics.mean_absolute_error(y_test, y_pred_mlr)\n",
    "meanSqErr = metrics.mean_squared_error(y_test, y_pred_mlr)\n",
    "rootMeanSqErr = np.sqrt(metrics.mean_squared_error(y_test, y_pred_mlr))\n",
    "\n",
    "print('Mean Absolute Error:', meanAbErr)\n",
    "print('Mean Square Error:', meanSqErr)\n",
    "print('Root Mean Square Error:', rootMeanSqErr)"
   ]
  }
 ],
 "metadata": {
  "interpreter": {
   "hash": "0408874e94a181eab43304f4bed56f1abe0bf304a17966d9f495c372115849db"
  },
  "kernelspec": {
   "display_name": "Python 3.9.7 ('base')",
   "language": "python",
   "name": "python3"
  },
  "language_info": {
   "codemirror_mode": {
    "name": "ipython",
    "version": 3
   },
   "file_extension": ".py",
   "mimetype": "text/x-python",
   "name": "python",
   "nbconvert_exporter": "python",
   "pygments_lexer": "ipython3",
   "version": "3.9.7"
  },
  "orig_nbformat": 4
 },
 "nbformat": 4,
 "nbformat_minor": 2
}
